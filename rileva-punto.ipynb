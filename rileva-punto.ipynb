{
 "cells": [
  {
   "cell_type": "code",
   "execution_count": 1,
   "metadata": {},
   "outputs": [],
   "source": [
    "%matplotlib tk\n",
    "import matplotlib.pyplot as plt\n",
    "import matplotlib.image as mpimg\n",
    "import numpy as np\n",
    "import math"
   ]
  },
  {
   "cell_type": "code",
   "execution_count": 2,
   "metadata": {},
   "outputs": [],
   "source": [
    "def calcolaJ(x,y,c1,c2):\n",
    "    modulo = 0\n",
    "    k = 0\n",
    "    while modulo<=4 and k<=iterazioni:\n",
    "        x1 = x**2-y**2+c1\n",
    "        y1 = 2*x*y+c2\n",
    "        x = x1\n",
    "        y = y1\n",
    "        modulo = x**2+y**2\n",
    "        k += 1\n",
    "    return k\n",
    "def tracciaJulia(cx,cy):\n",
    "    k = 0\n",
    "    n = 500\n",
    "    x = -2\n",
    "    y = -2\n",
    "    delta = 4/n\n",
    "    punti = []\n",
    "    for i in range(1,n):\n",
    "        y = -2\n",
    "        for j in range(1,n):\n",
    "            m = calcolaJ(x,y,cx,cy)\n",
    "            if m<=iterazioni:\n",
    "                c = m/iterazioni\n",
    "            if c<=0:\n",
    "                c = 0.001\n",
    "            if c>=1:\n",
    "                c=1\n",
    "            punti.append((x,y,c))\n",
    "            y += delta\n",
    "        x += delta\n",
    "    return punti"
   ]
  },
  {
   "cell_type": "code",
   "execution_count": 3,
   "metadata": {},
   "outputs": [],
   "source": [
    "def disegnaJulia(cX,cY):\n",
    "    #\n",
    "    figura = plt.figure(figsize=(5, 5))\n",
    "    figura.canvas.set_window_title('Julia')\n",
    "    #\n",
    "    iPunti = []\n",
    "    iPunti = tracciaJulia(cX,cY)\n",
    "    iPunti = np.stack(iPunti)\n",
    "    tot = len(iPunti)\n",
    "    plt.axis('off')\n",
    "    iColori = np.zeros((tot,4))\n",
    "    iColori[:,2] = 1.0\n",
    "    iColori[:,3] = iPunti[:,2]\n",
    "    plt.scatter(iPunti[:,0],iPunti[:,1],0.1,color=iColori)\n",
    "    stringa = 'c = '+str(cX)+'+'+str(cY)+'i'\n",
    "    plt.title(stringa,fontsize=8)\n",
    "    #\n",
    "    plt.show() "
   ]
  },
  {
   "cell_type": "code",
   "execution_count": 4,
   "metadata": {},
   "outputs": [],
   "source": [
    "fig = plt.figure(figsize=(10,10))\n",
    "plt.title('Insieme di Mandelbrot')\n",
    "img = mpimg.imread('mandel.png')\n",
    "iterazioni = 100\n",
    "def onclick(event):\n",
    "    ix, iy = event.xdata, event.ydata\n",
    "    x = (ix-100)*3/1000-2\n",
    "    y = 1.5-(iy-100)*3/1000\n",
    "    disegnaJulia(x,y)\n",
    "fig.canvas.set_window_title('Mandelbrot')\n",
    "cid = fig.canvas.mpl_connect('button_press_event', onclick)\n",
    "\n",
    "imgplot = plt.imshow(img)\n",
    "plt.show()"
   ]
  },
  {
   "cell_type": "code",
   "execution_count": null,
   "metadata": {},
   "outputs": [],
   "source": []
  }
 ],
 "metadata": {
  "kernelspec": {
   "display_name": "Python 3",
   "language": "python",
   "name": "python3"
  },
  "language_info": {
   "codemirror_mode": {
    "name": "ipython",
    "version": 3
   },
   "file_extension": ".py",
   "mimetype": "text/x-python",
   "name": "python",
   "nbconvert_exporter": "python",
   "pygments_lexer": "ipython3",
   "version": "3.8.3"
  }
 },
 "nbformat": 4,
 "nbformat_minor": 4
}
